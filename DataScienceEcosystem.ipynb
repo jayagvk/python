{
 "cells": [
  {
   "cell_type": "markdown",
   "id": "77c1f28d-f950-4af1-8314-eed1f4ae5c57",
   "metadata": {},
   "source": [
    "# Data Science Tools and Ecosystem #"
   ]
  },
  {
   "cell_type": "markdown",
   "id": "2e912efe-aa52-4b03-83ff-d161095c3744",
   "metadata": {},
   "source": [
    "In this notebook, Data Science Tools and Ecosystem are summarized."
   ]
  },
  {
   "cell_type": "markdown",
   "id": "218807f2-3c43-4c6d-b41f-e1f49046a63d",
   "metadata": {
    "tags": []
   },
   "source": [
    "**Objectives:**\n",
    "\n",
    "- Popular languages for Data Science\n",
    "- Commonly used libraries by Data Scientist\n",
    "- Data science Tools\n",
    "- Examples of Arithmetic expressions"
   ]
  },
  {
   "cell_type": "markdown",
   "id": "0b2c4a62-bcc2-49ad-981f-3358babc11cf",
   "metadata": {},
   "source": [
    "Some of the popular languages that Data Scientists use are:\n",
    "1. Python\n",
    "2. R\n",
    "3. Julia"
   ]
  },
  {
   "cell_type": "markdown",
   "id": "ad4a71e1-84c4-46ce-9edb-bd3f31e186b5",
   "metadata": {},
   "source": [
    "Some of the commonly used libraries used by Data Scientists include:\n",
    "1. Pandas\n",
    "2. Matplotlab\n",
    "3. Numpy\n",
    "4. Keras"
   ]
  },
  {
   "cell_type": "markdown",
   "id": "2f761a06-f0a9-42a2-9dd5-d3cc2a9dade2",
   "metadata": {},
   "source": [
    "| Data Science Tools |\n",
    "|-----------|\n",
    "| Tensorflow |\n",
    "| Matlab |\n",
    "| Apache Spark |"
   ]
  },
  {
   "cell_type": "markdown",
   "id": "86c8d078-a034-4f3e-ba96-2effb4c7c8a3",
   "metadata": {},
   "source": [
    "### Below are a few examples of evaluating arithmetic expressions in Python ###"
   ]
  },
  {
   "cell_type": "code",
   "execution_count": 1,
   "id": "972091ee-fed5-4a9d-81bc-fbaf2499ed2a",
   "metadata": {
    "tags": []
   },
   "outputs": [
    {
     "data": {
      "text/plain": [
       "17"
      ]
     },
     "execution_count": 1,
     "metadata": {},
     "output_type": "execute_result"
    }
   ],
   "source": [
    "# This a simple arithmetic expression to mutiply then add integers\n",
    "(3*4)+5"
   ]
  },
  {
   "cell_type": "code",
   "execution_count": 2,
   "id": "4b36fb37-341f-483f-8158-07d58f1e8346",
   "metadata": {
    "tags": []
   },
   "outputs": [
    {
     "data": {
      "text/plain": [
       "3.3333333333333335"
      ]
     },
     "execution_count": 2,
     "metadata": {},
     "output_type": "execute_result"
    }
   ],
   "source": [
    "# This will convert 200 minutes to hours by diving by 60\n",
    "200/60"
   ]
  },
  {
   "cell_type": "markdown",
   "id": "8ec1411e-5be3-4303-acfc-b633abd363c4",
   "metadata": {},
   "source": [
    "## Author ##"
   ]
  },
  {
   "cell_type": "markdown",
   "id": "3e9b4a00-4ed3-4223-9e39-23e0cfc53d65",
   "metadata": {},
   "source": [
    "Jayasree Perneti"
   ]
  },
  {
   "cell_type": "code",
   "execution_count": null,
   "id": "abc2c63c-9fd3-4bbc-8079-c1b3e4930599",
   "metadata": {},
   "outputs": [],
   "source": []
  }
 ],
 "metadata": {
  "kernelspec": {
   "display_name": "Python",
   "language": "python",
   "name": "conda-env-python-py"
  },
  "language_info": {
   "codemirror_mode": {
    "name": "ipython",
    "version": 3
   },
   "file_extension": ".py",
   "mimetype": "text/x-python",
   "name": "python",
   "nbconvert_exporter": "python",
   "pygments_lexer": "ipython3",
   "version": "3.7.12"
  }
 },
 "nbformat": 4,
 "nbformat_minor": 5
}
